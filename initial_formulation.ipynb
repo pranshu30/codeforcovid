{
 "cells": [
  {
   "cell_type": "markdown",
   "metadata": {},
   "source": [
    "https://personal.utdallas.edu/~scniu/OPRE-6201/documents/LP01-Production-Planning.pdf\n",
    "\n",
    "for a given distribution center K, the cost to buy PPE i  is given by \n",
    "\n",
    "$$C_k = \\sum_{t = 0}^{N}{c_{i,t}  x_{i,t}}$$\n",
    "where $i \\in \\mathbb{I^+}$\n",
    "\n",
    "the cost of holding the the PPE at DC k is:\n",
    "\n",
    "$$H_k = \\sum_{t=0}^{N}{h_{i,t} \\left[ \\sum_{j=1}^{t}{x_{i,j} - d_{i,j}} \\right]  } $$\n",
    "\n",
    "Next the production capacity constraints for PPE i are\n",
    "\n",
    "$$ x_{i,t} < m_{i,t} $$\n",
    "\n",
    "and assuming there can be no shortages\n",
    "\n",
    "$$ \\sum_{j=1}^{t}{x_{i,j} - d_{i,j}} \\ge 0 \\; for \\; t \\in \\{0,1,2, ..., N\\} $$\n",
    "\n",
    "Now the problem is how can distributors of PPE get it to the demand targets minimizng shortage and cost under uncertainty\n"
   ]
  },
  {
   "cell_type": "code",
   "execution_count": null,
   "metadata": {},
   "outputs": [],
   "source": []
  }
 ],
 "metadata": {
  "language_info": {
   "codemirror_mode": {
    "name": "ipython",
    "version": 3
   },
   "file_extension": ".py",
   "mimetype": "text/x-python",
   "name": "python",
   "nbconvert_exporter": "python",
   "pygments_lexer": "ipython3",
   "version": 3
  },
  "orig_nbformat": 2
 },
 "nbformat": 4,
 "nbformat_minor": 2
}